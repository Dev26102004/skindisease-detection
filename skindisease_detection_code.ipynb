{
  "cells": [
    {
      "cell_type": "code",
      "execution_count": null,
      "metadata": {
        "id": "Obg-mXwLXpem"
      },
      "outputs": [],
      "source": [
        "import tensorflow as tf\n",
        "from tensorflow.keras.models import Sequential\n",
        "from tensorflow.keras.layers import Conv2D, MaxPooling2D, Flatten, Dense\n",
        "from tensorflow.keras.preprocessing.image import ImageDataGenerator\n",
        "from sklearn.model_selection import train_test_split\n"
      ]
    },
    {
      "cell_type": "code",
      "execution_count": null,
      "metadata": {
        "id": "RCNgq-7jXsLa"
      },
      "outputs": [],
      "source": [
        "# Define constants\n",
        "image_height = 100\n",
        "image_width = 100\n",
        "num_channels = 3\n",
        "num_classes = 4  # we have 4 classes\n",
        "batch_size = 32\n",
        "epochs = 10"
      ]
    },
    {
      "cell_type": "code",
      "execution_count": null,
      "metadata": {
        "id": "JvCGa09jX2LX"
      },
      "outputs": [],
      "source": [
        "# Define the dataset directory\n",
        "dataset_dir = \"/content/drive/Dataset\""
      ]
    },
    {
      "cell_type": "code",
      "execution_count": null,
      "metadata": {
        "id": "YBWp8KeuYCkA"
      },
      "outputs": [],
      "source": [
        "# Create ImageDataGenerator for augmentation and splitting\n",
        "datagen = ImageDataGenerator(\n",
        "    rescale=1./255,\n",
        "    validation_split=0.2  # Split the data into 80% training and 20% validation\n",
        ")\n"
      ]
    },
    {
      "cell_type": "code",
      "execution_count": null,
      "metadata": {
        "colab": {
          "base_uri": "https://localhost:8080/"
        },
        "id": "lSQIdD5sYFmQ",
        "outputId": "3b3f543d-8875-49e9-c626-53b80bf0158e"
      },
      "outputs": [
        {
          "name": "stdout",
          "output_type": "stream",
          "text": [
            "Found 373 images belonging to 4 classes.\n"
          ]
        }
      ],
      "source": [
        "# Generate training dataset\n",
        "train_generator = datagen.flow_from_directory(\n",
        "    dataset_dir,\n",
        "    target_size=(image_height, image_width),\n",
        "    batch_size=batch_size,\n",
        "    class_mode='categorical',\n",
        "    subset='training'  # Use training subset\n",
        ")"
      ]
    },
    {
      "cell_type": "code",
      "execution_count": null,
      "metadata": {
        "colab": {
          "base_uri": "https://localhost:8080/"
        },
        "id": "-9VdGd5aYJLB",
        "outputId": "0d3ac929-c247-40df-d28e-bb98411bc426"
      },
      "outputs": [
        {
          "name": "stdout",
          "output_type": "stream",
          "text": [
            "Found 92 images belonging to 4 classes.\n"
          ]
        }
      ],
      "source": [
        "# Generate validation dataset\n",
        "validation_generator = datagen.flow_from_directory(\n",
        "    dataset_dir,\n",
        "    target_size=(image_height, image_width),\n",
        "    batch_size=batch_size,\n",
        "    class_mode='categorical',\n",
        "    subset='validation'  # Use validation subset\n",
        ")"
      ]
    },
    {
      "cell_type": "code",
      "execution_count": null,
      "metadata": {
        "colab": {
          "base_uri": "https://localhost:8080/"
        },
        "id": "4_32cJZpYOww",
        "outputId": "772eaf95-dbbd-40c2-83e1-e4237d9879f1"
      },
      "outputs": [
        {
          "name": "stdout",
          "output_type": "stream",
          "text": [
            "Class Indices: {'Acne': 0, 'impetigo': 1, 'melasma': 2, 'rosacea': 3}\n"
          ]
        }
      ],
      "source": [
        "class_indices = train_generator.class_indices\n",
        "print(\"Class Indices:\", class_indices)"
      ]
    },
    {
      "cell_type": "code",
      "execution_count": null,
      "metadata": {
        "colab": {
          "base_uri": "https://localhost:8080/"
        },
        "id": "Er69a-uJYR-u",
        "outputId": "ab651b98-3904-46b9-fca0-8cf8518a5cd7"
      },
      "outputs": [
        {
          "name": "stdout",
          "output_type": "stream",
          "text": [
            "Model: \"sequential\"\n",
            "_________________________________________________________________\n",
            " Layer (type)                Output Shape              Param #   \n",
            "=================================================================\n",
            " conv2d (Conv2D)             (None, 98, 98, 32)        896       \n",
            "                                                                 \n",
            " max_pooling2d (MaxPooling2  (None, 49, 49, 32)        0         \n",
            " D)                                                              \n",
            "                                                                 \n",
            " conv2d_1 (Conv2D)           (None, 47, 47, 32)        9248      \n",
            "                                                                 \n",
            " max_pooling2d_1 (MaxPoolin  (None, 23, 23, 32)        0         \n",
            " g2D)                                                            \n",
            "                                                                 \n",
            " flatten (Flatten)           (None, 16928)             0         \n",
            "                                                                 \n",
            " dense (Dense)               (None, 64)                1083456   \n",
            "                                                                 \n",
            " dense_1 (Dense)             (None, 4)                 260       \n",
            "                                                                 \n",
            "=================================================================\n",
            "Total params: 1093860 (4.17 MB)\n",
            "Trainable params: 1093860 (4.17 MB)\n",
            "Non-trainable params: 0 (0.00 Byte)\n",
            "_________________________________________________________________\n"
          ]
        }
      ],
      "source": [
        "# Create CNN model\n",
        "model = Sequential([\n",
        "    Conv2D(32, (3, 3), activation='relu', input_shape=(image_height, image_width, num_channels)),\n",
        "    MaxPooling2D((2, 2)),\n",
        "    Conv2D(32, (3, 3), activation='relu'),\n",
        "    MaxPooling2D((2, 2)),\n",
        "    Flatten(),\n",
        "    Dense(64, activation='relu'),\n",
        "    Dense(num_classes, activation='softmax')\n",
        "])\n",
        "model.summary()"
      ]
    },
    {
      "cell_type": "code",
      "execution_count": null,
      "metadata": {
        "id": "W4TCTj57YUXj"
      },
      "outputs": [],
      "source": [
        "# Compile the model\n",
        "model.compile(optimizer='adam', loss='categorical_crossentropy', metrics=['accuracy'])\n"
      ]
    },
    {
      "cell_type": "code",
      "execution_count": null,
      "metadata": {
        "colab": {
          "base_uri": "https://localhost:8080/"
        },
        "id": "-NmLijLEYXvK",
        "outputId": "aa1a2a65-26ea-44f6-cb60-dbb711e82daa"
      },
      "outputs": [
        {
          "name": "stdout",
          "output_type": "stream",
          "text": [
            "Epoch 1/10\n",
            "12/12 [==============================] - 32s 3s/step - loss: 0.9753 - accuracy: 0.6729 - val_loss: 0.8542 - val_accuracy: 0.6957\n",
            "Epoch 2/10\n",
            "12/12 [==============================] - 5s 410ms/step - loss: 0.8652 - accuracy: 0.6890 - val_loss: 0.7781 - val_accuracy: 0.7283\n",
            "Epoch 3/10\n",
            "12/12 [==============================] - 8s 653ms/step - loss: 0.7872 - accuracy: 0.7185 - val_loss: 0.7911 - val_accuracy: 0.7283\n",
            "Epoch 4/10\n",
            "12/12 [==============================] - 5s 393ms/step - loss: 0.7026 - accuracy: 0.7319 - val_loss: 0.7842 - val_accuracy: 0.7174\n",
            "Epoch 5/10\n",
            "12/12 [==============================] - 5s 406ms/step - loss: 0.6280 - accuracy: 0.7855 - val_loss: 0.8291 - val_accuracy: 0.6848\n",
            "Epoch 6/10\n",
            "12/12 [==============================] - 8s 596ms/step - loss: 0.5563 - accuracy: 0.8016 - val_loss: 0.8135 - val_accuracy: 0.7391\n",
            "Epoch 7/10\n",
            "12/12 [==============================] - 5s 417ms/step - loss: 0.5439 - accuracy: 0.8016 - val_loss: 0.9707 - val_accuracy: 0.6957\n",
            "Epoch 8/10\n",
            "12/12 [==============================] - 6s 490ms/step - loss: 0.4711 - accuracy: 0.8365 - val_loss: 0.9340 - val_accuracy: 0.6739\n",
            "Epoch 9/10\n",
            "12/12 [==============================] - 5s 431ms/step - loss: 0.4254 - accuracy: 0.8579 - val_loss: 1.0936 - val_accuracy: 0.6957\n",
            "Epoch 10/10\n",
            "12/12 [==============================] - 5s 426ms/step - loss: 0.3936 - accuracy: 0.8713 - val_loss: 1.0597 - val_accuracy: 0.6957\n"
          ]
        }
      ],
      "source": [
        "# Train the model\n",
        "history = model.fit(train_generator, epochs=epochs, validation_data=validation_generator)"
      ]
    },
    {
      "cell_type": "code",
      "execution_count": null,
      "metadata": {
        "colab": {
          "base_uri": "https://localhost:8080/"
        },
        "id": "sd9BE2WiYZ6V",
        "outputId": "b633ae44-5145-45fe-9453-ff8368f85c05"
      },
      "outputs": [
        {
          "name": "stdout",
          "output_type": "stream",
          "text": [
            "3/3 [==============================] - 1s 184ms/step - loss: 1.0597 - accuracy: 0.6957\n",
            "Validation Loss: 1.059656023979187\n",
            "Validation Accuracy: 0.695652186870575\n"
          ]
        }
      ],
      "source": [
        "# Evaluate the model on the validation data\n",
        "validation_loss, validation_accuracy = model.evaluate(validation_generator)\n",
        "\n",
        "print(\"Validation Loss:\", validation_loss)\n",
        "print(\"Validation Accuracy:\", validation_accuracy)\n"
      ]
    },
    {
      "cell_type": "code",
      "execution_count": null,
      "metadata": {
        "colab": {
          "base_uri": "https://localhost:8080/"
        },
        "id": "uAVpoMODY6gn",
        "outputId": "d23c3594-75ae-40a0-9642-303e880026f8"
      },
      "outputs": [
        {
          "name": "stdout",
          "output_type": "stream",
          "text": [
            "1/1 [==============================] - 0s 24ms/step\n",
            "Predicted class: rosacea\n"
          ]
        }
      ],
      "source": [
        "import numpy as np\n",
        "from tensorflow.keras.preprocessing import image\n",
        "\n",
        "# Load and preprocess the image\n",
        "img_path = \"/content/rosacea/rosacea-0024__ProtectWyJQcm90ZWN0Il0_FocusFillWzI5NCwyMjIsInkiLDg1XQ.jpg\"  # Replace with the path to your random image\n",
        "img = image.load_img(img_path, target_size=(image_height, image_width))\n",
        "img_array = image.img_to_array(img)\n",
        "img_array = np.expand_dims(img_array, axis=0)\n",
        "img_array /= 255.  # Normalize pixel values\n",
        "\n",
        "# Predict the class probabilities\n",
        "predictions = model.predict(img_array)\n",
        "\n",
        "# Get the predicted class label\n",
        "predicted_class = np.argmax(predictions)\n",
        "\n",
        "# Get class indices from the validation generator\n",
        "class_indices = train_generator.class_indices  # You can use train_generator or validation_generator, depending on your choice\n",
        "\n",
        "# Invert the dictionary to map indices to class names\n",
        "class_names = {v: k for k, v in class_indices.items()}\n",
        "\n",
        "# Get the predicted class name\n",
        "predicted_class_name = class_names[predicted_class]\n",
        "\n",
        "# Print the predicted class name\n",
        "print(\"Predicted class:\", predicted_class_name)\n"
      ]
    },
    {
      "cell_type": "code",
      "execution_count": null,
      "metadata": {
        "colab": {
          "base_uri": "https://localhost:8080/"
        },
        "id": "QPI9hhOlZHa5",
        "outputId": "844be5bd-c216-4d0d-fb85-a2cfea11623e"
      },
      "outputs": [
        {
          "name": "stderr",
          "output_type": "stream",
          "text": [
            "/usr/local/lib/python3.10/dist-packages/keras/src/engine/training.py:3103: UserWarning: You are saving your model as an HDF5 file via `model.save()`. This file format is considered legacy. We recommend using instead the native Keras format, e.g. `model.save('my_model.keras')`.\n",
            "  saving_api.save_model(\n"
          ]
        }
      ],
      "source": [
        "# Save the model to a file\n",
        "model.save('/content/skin_disorder_classifier_EfficientNetB2.h5')"
      ]
    },
    {
      "cell_type": "code",
      "execution_count": null,
      "metadata": {
        "id": "tJNcocXNblqC"
      },
      "outputs": [],
      "source": []
    }
  ],
  "metadata": {
    "colab": {
      "provenance": []
    },
    "kernelspec": {
      "display_name": "Python 3",
      "name": "python3"
    },
    "language_info": {
      "name": "python"
    }
  },
  "nbformat": 4,
  "nbformat_minor": 0
}
